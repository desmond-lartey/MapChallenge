{
 "cells": [
  {
   "cell_type": "code",
   "execution_count": 1,
   "metadata": {},
   "outputs": [
    {
     "name": "stderr",
     "output_type": "stream",
     "text": [
      "c:\\Users\\Gebruiker\\anaconda3\\envs\\gee\\Lib\\site-packages\\pandas\\core\\arrays\\masked.py:60: UserWarning: Pandas requires version '1.3.6' or newer of 'bottleneck' (version '1.3.5' currently installed).\n",
      "  from pandas.core import (\n",
      "  0%|          | 0/17 [00:00<?, ?it/s]"
     ]
    },
    {
     "ename": "",
     "evalue": "",
     "output_type": "error",
     "traceback": [
      "\u001b[1;31mThe Kernel crashed while executing code in the current cell or a previous cell. \n",
      "\u001b[1;31mPlease review the code in the cell(s) to identify a possible cause of the failure. \n",
      "\u001b[1;31mClick <a href='https://aka.ms/vscodeJupyterKernelCrash'>here</a> for more info. \n",
      "\u001b[1;31mView Jupyter <a href='command:jupyter.viewOutput'>log</a> for further details."
     ]
    }
   ],
   "source": [
    "import plotly.express as px\n",
    "import pandas as pd\n",
    "import numpy as np\n",
    "import os\n",
    "from tqdm import tqdm  # For progress bar\n",
    "\n",
    "# Define the base output directory\n",
    "base_dir = r'C:\\Users\\Gebruiker\\Downloads\\Media\\Map Challenge\\Day13'\n",
    "\n",
    "# Create subdirectory for the PNG frames\n",
    "frames_dir = os.path.join(base_dir, 'frames')\n",
    "os.makedirs(frames_dir, exist_ok=True)\n",
    "\n",
    "# Load the original gapminder dataset\n",
    "df = px.data.gapminder()\n",
    "\n",
    "# Extend the dataset up to just 5 additional years (2008-2012)\n",
    "years_to_add = np.arange(2008, 2013)\n",
    "new_data = []\n",
    "\n",
    "# Process only the first 10 countries for demonstration\n",
    "for country in df['country'].unique()[:10]:  # Limit to 10 countries for quicker processing\n",
    "    country_data = df[df['country'] == country]\n",
    "    last_year = country_data['year'].max()\n",
    "    for year in years_to_add:\n",
    "        new_entry = country_data[country_data['year'] == last_year].copy()\n",
    "        new_entry['year'] = year\n",
    "        new_entry['pop'] = new_entry['pop'] * (1.02 ** (year - last_year))  # Simulate 2% population growth\n",
    "        new_entry['gdpPercap'] = new_entry['gdpPercap'] * (1.03 ** (year - last_year))  # Simulate 3% GDP growth\n",
    "        new_data.append(new_entry)\n",
    "\n",
    "# Convert new data to DataFrame and append to original data\n",
    "new_data_df = pd.concat(new_data)\n",
    "df_extended = pd.concat([df, new_data_df])\n",
    "\n",
    "# Create a frame for each year and save as PNG, with progress bar\n",
    "years = df_extended['year'].unique()\n",
    "for year in tqdm(years):\n",
    "    # Filter data for the current year\n",
    "    df_year = df_extended[df_extended['year'] == year]\n",
    "\n",
    "    # Create the choropleth map\n",
    "    fig = px.choropleth(df_year, locations=\"iso_alpha\", color=\"gdpPercap\",\n",
    "                        hover_name=\"country\",\n",
    "                        color_continuous_scale=px.colors.sequential.Plasma,\n",
    "                        projection=\"natural earth\",  # Global projection\n",
    "                        title=f\"3D Choropleth Map of GDP Per Capita ({year})\")\n",
    "\n",
    "    # Update layout to ensure the map is fullscreen\n",
    "    fig.update_layout(\n",
    "        autosize=True,\n",
    "        width=800,  # Reduced resolution for quicker processing\n",
    "        height=600,\n",
    "        title_x=0.5,  # Center the title\n",
    "    )\n",
    "\n",
    "    # Save the frame as a PNG file in the frames directory\n",
    "    fig.write_image(f\"{frames_dir}/frame_{year}.png\", width=800, height=600)\n"
   ]
  }
 ],
 "metadata": {
  "kernelspec": {
   "display_name": "gee",
   "language": "python",
   "name": "python3"
  },
  "language_info": {
   "codemirror_mode": {
    "name": "ipython",
    "version": 3
   },
   "file_extension": ".py",
   "mimetype": "text/x-python",
   "name": "python",
   "nbconvert_exporter": "python",
   "pygments_lexer": "ipython3",
   "version": "3.11.4"
  }
 },
 "nbformat": 4,
 "nbformat_minor": 2
}
