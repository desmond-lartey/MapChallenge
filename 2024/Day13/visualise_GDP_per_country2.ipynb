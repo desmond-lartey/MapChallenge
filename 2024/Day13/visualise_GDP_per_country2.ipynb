{
 "cells": [
  {
   "cell_type": "code",
   "execution_count": 1,
   "metadata": {},
   "outputs": [
    {
     "name": "stderr",
     "output_type": "stream",
     "text": [
      "c:\\Users\\Gebruiker\\anaconda3\\envs\\gee\\Lib\\site-packages\\pandas\\core\\arrays\\masked.py:60: UserWarning: Pandas requires version '1.3.6' or newer of 'bottleneck' (version '1.3.5' currently installed).\n",
      "  from pandas.core import (\n"
     ]
    }
   ],
   "source": [
    "import plotly.express as px\n",
    "import pandas as pd\n",
    "import numpy as np\n",
    "import imageio\n",
    "import os\n",
    "import shutil"
   ]
  },
  {
   "cell_type": "code",
   "execution_count": 4,
   "metadata": {},
   "outputs": [],
   "source": [
    "import plotly.express as px\n",
    "import pandas as pd\n",
    "import numpy as np\n",
    "import os\n",
    "\n",
    "# Define the base output directory\n",
    "base_dir = r'C:\\Users\\Gebruiker\\Downloads\\Media\\Map Challenge\\Day13\\gif_frames2'\n",
    "\n",
    "# Create subdirectory for the PNG frames\n",
    "frames_dir = os.path.join(base_dir, 'frames')\n",
    "os.makedirs(frames_dir, exist_ok=True)\n",
    "\n",
    "# Load the original gapminder dataset\n",
    "df = px.data.gapminder()\n",
    "\n",
    "# Extend the dataset up to 2024\n",
    "years_to_add = np.arange(2008, 2025)\n",
    "new_data = []\n",
    "\n",
    "for country in df['country'].unique():\n",
    "    country_data = df[df['country'] == country]\n",
    "    last_year = country_data['year'].max()\n",
    "    for year in years_to_add:\n",
    "        new_entry = country_data[country_data['year'] == last_year].copy()\n",
    "        new_entry['year'] = year\n",
    "        new_entry['pop'] = new_entry['pop'] * (1.02 ** (year - last_year)) # Simulate 2% population growth\n",
    "        new_entry['gdpPercap'] = new_entry['gdpPercap'] * (1.03 ** (year - last_year)) # Simulate 3% GDP growth\n",
    "        new_data.append(new_entry)\n",
    "\n",
    "# Convert new data to DataFrame and append to original data\n",
    "new_data_df = pd.concat(new_data)\n",
    "df_extended = pd.concat([df, new_data_df])\n",
    "\n",
    "# Create a frame for each year and save as PNG\n",
    "years = df_extended['year'].unique()\n",
    "for year in years:\n",
    "    # Filter data for the current year\n",
    "    df_year = df_extended[df_extended['year'] == year]\n",
    "\n",
    "    # Create the choropleth map\n",
    "    fig = px.choropleth(df_year, locations=\"iso_alpha\", color=\"gdpPercap\",\n",
    "                        hover_name=\"country\",\n",
    "                        color_continuous_scale=px.colors.sequential.Plasma,\n",
    "                        projection=\"natural earth\", # Global projection\n",
    "                        title=f\"3D Choropleth Map of GDP Per Capita ({year})\")\n",
    "\n",
    "    # Update layout to ensure the map is fullscreen\n",
    "    fig.update_layout(\n",
    "        autosize=True,\n",
    "        width=1200,\n",
    "        height=800,\n",
    "        title_x=0.5, # Center the title\n",
    "    )\n",
    "\n",
    "    # Save the frame as a PNG file in the frames directory\n",
    "    fig.write_image(f\"{frames_dir}/frame_{year}.png\", width=1200, height=800)\n"
   ]
  },
  {
   "cell_type": "code",
   "execution_count": 1,
   "metadata": {},
   "outputs": [
    {
     "name": "stderr",
     "output_type": "stream",
     "text": [
      "c:\\Users\\Gebruiker\\anaconda3\\envs\\gee\\Lib\\site-packages\\pandas\\core\\arrays\\masked.py:60: UserWarning: Pandas requires version '1.3.6' or newer of 'bottleneck' (version '1.3.5' currently installed).\n",
      "  from pandas.core import (\n"
     ]
    }
   ],
   "source": [
    "import plotly.express as px\n",
    "import pandas as pd\n",
    "import os\n",
    "\n",
    "# Define the base output directory\n",
    "base_dir = r'C:\\Users\\Gebruiker\\Downloads\\Media\\Map Challenge\\Day13'\n",
    "\n",
    "# Create subdirectory for the PNG frames\n",
    "frames_dir = os.path.join(base_dir, 'frames')\n",
    "os.makedirs(frames_dir, exist_ok=True)\n",
    "\n",
    "# Load the original gapminder dataset\n",
    "df = px.data.gapminder()\n",
    "\n",
    "# Filter for the Netherlands and restrict to two specific years\n",
    "selected_years = [2002, 2007]  # Replace with the two years you want to analyze\n",
    "df_netherlands = df[(df['country'] == 'Netherlands') & (df['year'].isin(selected_years))]\n",
    "\n",
    "# Create a frame for each selected year and save as PNG\n",
    "for year in selected_years:\n",
    "    # Filter data for the current year\n",
    "    df_year = df_netherlands[df_netherlands['year'] == year]\n",
    "\n",
    "    # Create the choropleth map\n",
    "    fig = px.choropleth(df_year, locations=\"iso_alpha\", color=\"gdpPercap\",\n",
    "                        hover_name=\"country\",\n",
    "                        color_continuous_scale=px.colors.sequential.Plasma,\n",
    "                        projection=\"natural earth\",\n",
    "                        title=f\"3D Choropleth Map of GDP Per Capita ({year})\")\n",
    "\n",
    "    # Update layout to ensure the map is fullscreen\n",
    "    fig.update_layout(\n",
    "        autosize=True,\n",
    "        width=1200,\n",
    "        height=800,\n",
    "        title_x=0.5,  # Center the title\n",
    "    )\n",
    "\n",
    "    # Save the frame as a PNG file in the frames directory\n",
    "    fig.write_image(f\"{frames_dir}/frame_{year}.png\", width=1200, height=800)\n"
   ]
  }
 ],
 "metadata": {
  "kernelspec": {
   "display_name": "gee",
   "language": "python",
   "name": "python3"
  },
  "language_info": {
   "codemirror_mode": {
    "name": "ipython",
    "version": 3
   },
   "file_extension": ".py",
   "mimetype": "text/x-python",
   "name": "python",
   "nbconvert_exporter": "python",
   "pygments_lexer": "ipython3",
   "version": "3.11.4"
  }
 },
 "nbformat": 4,
 "nbformat_minor": 2
}
