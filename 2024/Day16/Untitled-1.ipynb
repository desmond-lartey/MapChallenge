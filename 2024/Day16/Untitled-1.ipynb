{
 "cells": [
  {
   "cell_type": "code",
   "execution_count": 1,
   "metadata": {},
   "outputs": [
    {
     "name": "stderr",
     "output_type": "stream",
     "text": [
      "c:\\Users\\Gebruiker\\anaconda3\\envs\\gee\\Lib\\site-packages\\pandas\\core\\arrays\\masked.py:60: UserWarning: Pandas requires version '1.3.6' or newer of 'bottleneck' (version '1.3.5' currently installed).\n",
      "  from pandas.core import (\n"
     ]
    },
    {
     "name": "stdout",
     "output_type": "stream",
     "text": [
      "Generating URL...\n",
      "Downloading GIF image from https://earthengine.googleapis.com/v1/projects/earthengine-legacy/videoThumbnails/af01bf8b55fa2d3e3e5d9799e47d0f76-d7b3a5aba3b0e829838f76e932c620d0:getPixels\n",
      "Please wait ...\n",
      "The GIF image has been saved to: c:\\Users\\Gebruiker\\Downloads\\Media\\MapChallenge\\2024\\Day16\\goes.gif\n"
     ]
    },
    {
     "data": {
      "application/vnd.jupyter.widget-view+json": {
       "model_id": "7812a6a8cc6c4cb5a519f6f611ecf43b",
       "version_major": 2,
       "version_minor": 0
      },
      "text/plain": [
       "Output()"
      ]
     },
     "metadata": {},
     "output_type": "display_data"
    }
   ],
   "source": [
    "import ee\n",
    "import geemap\n",
    "m = geemap.Map(center=[40, -100], zoom=4)\n",
    "m\n",
    "\n",
    "\n",
    "\n",
    "roi = m.user_roi\n",
    "if roi is None:\n",
    "    roi = ee.Geometry.BBox(-99.3832, 19.877, -82.1084, 33.7122)\n",
    "start_date = \"2024-09-10T12:00:00\"\n",
    "end_date = \"2024-09-10T21:00:00\"\n",
    "data = \"GOES-16\"\n",
    "scan = \"full_disk\"\n",
    "timelapse = geemap.goes_timelapse(\n",
    "    roi, \"goes.gif\", start_date, end_date, data, scan, framesPerSecond=5, overlay_data=\"us_states\"\n",
    ")\n",
    "geemap.show_image(timelapse)\n"
   ]
  }
 ],
 "metadata": {
  "kernelspec": {
   "display_name": "gee",
   "language": "python",
   "name": "python3"
  },
  "language_info": {
   "codemirror_mode": {
    "name": "ipython",
    "version": 3
   },
   "file_extension": ".py",
   "mimetype": "text/x-python",
   "name": "python",
   "nbconvert_exporter": "python",
   "pygments_lexer": "ipython3",
   "version": "3.11.4"
  }
 },
 "nbformat": 4,
 "nbformat_minor": 2
}
